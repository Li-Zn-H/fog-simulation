{
 "cells": [
  {
   "cell_type": "code",
   "execution_count": 10,
   "metadata": {
    "collapsed": true,
    "pycharm": {
     "name": "#%%\n"
    }
   },
   "outputs": [],
   "source": [
    "import os\n",
    "import math\n",
    "import copy\n",
    "import pickle\n",
    "import argparse\n",
    "import numpy as np\n",
    "from pathlib import Path\n",
    "from typing import Dict, List, Tuple\n",
    "from scipy.constants import speed_of_light as c\n",
    "path = \"npy_doc/\"\n",
    "RNG = np.random.default_rng(seed=42)"
   ]
  },
  {
   "cell_type": "code",
   "execution_count": 11,
   "outputs": [],
   "source": [
    "class ParameterSet:\n",
    "    def __init__(self, **kwargs) -> None:\n",
    "        self.n = 500\n",
    "        self.n_min = 100\n",
    "        self.n_max = 1000\n",
    "\n",
    "        self.r_range = 100\n",
    "        self.r_range_min = 50\n",
    "        self.r_range_max = 250\n",
    "\n",
    "        # 衰减系数 => 雾量\n",
    "        self.alpha = 0.06\n",
    "        self.alpha_min = 0.003\n",
    "        self.alpha_max = 0.5\n",
    "        self.alpha_scale = 1000\n",
    "\n",
    "        # 气象光学范围（米）\n",
    "        self.mor = np.log(20) / self.alpha\n",
    "\n",
    "        # 向后散射系数（in 1/sr）[sr = 球面度]\n",
    "        self.beta = 0.046 / self.mor\n",
    "        self.beta_min = 0.023 / self.mor\n",
    "        self.beta_max = 0.092 / self.mor\n",
    "        self.beta_scale = 1000 * self.mor\n",
    "\n",
    "        # 脉冲峰值功率（瓦）\n",
    "        self.p_0 = 80\n",
    "        self.p_0_min = 60\n",
    "        self.p_0_max = 100\n",
    "\n",
    "        # 半功率脉冲宽度（秒）\n",
    "        self.tau_h = 2e-8\n",
    "        self.tau_h_min = 5e-9\n",
    "        self.tau_h_max = 8e-8\n",
    "        self.tau_h_scale = 1e9\n",
    "\n",
    "        # 总脉冲能力（焦）\n",
    "        self.e_p = self.p_0 * self.tau_h  # equation (7) in [1]\n",
    "\n",
    "        # 接收器孔径面积（米^2）\n",
    "        self.a_r = 0.25\n",
    "        self.a_r_min = 0.01\n",
    "        self.a_r_max = 0.1\n",
    "        self.a_r_scale = 1000\n",
    "\n",
    "        # 接收器光学损失\n",
    "        self.l_r = 0.05\n",
    "        self.l_r_min = 0.01\n",
    "        self.l_r_max = 0.10\n",
    "        self.l_r_scale = 100\n",
    "\n",
    "        self.c_a = c * self.l_r * self.a_r / 2\n",
    "\n",
    "        self.linear_xsi = True\n",
    "\n",
    "        self.D = 0.1  # 发射器和接收器的位移 米\n",
    "        self.ROH_T = 0.01  # 发射器孔径半径 米\n",
    "        self.ROH_R = 0.01  # 接收器孔径半径 米\n",
    "        self.GAMMA_T_DEG = 2  # 发射器视野的开启角度 角度\n",
    "        self.GAMMA_R_DEG = 3.5  # 接收器事业的开启角度 角度\n",
    "        self.GAMMA_T = math.radians(self.GAMMA_T_DEG)\n",
    "        self.GAMMA_R = math.radians(self.GAMMA_R_DEG)\n",
    "\n",
    "        # 接收器视场开始覆盖发射波束的范围（米）\n",
    "        self.r_1 = 0.9\n",
    "        self.r_1_min = 0\n",
    "        self.r_1_max = 10\n",
    "        self.r_1_scale = 10\n",
    "\n",
    "        # 接收器视场完全覆盖发射波束的范围（米）\n",
    "        self.r_2 = 1.0\n",
    "        self.r_2_min = 0\n",
    "        self.r_2_max = 10\n",
    "        self.r_2_scale = 10\n",
    "\n",
    "        # 到硬目标的距离（m）\n",
    "        self.r_0 = 30\n",
    "        self.r_0_min = 1\n",
    "        self.r_0_max = 200\n",
    "\n",
    "        # 硬目标的反射率[0.07，0.2， > 4 = > 低，正常，高]\n",
    "        self.gamma = 0.000001\n",
    "        self.gamma_min = 0.0000001\n",
    "        self.gamma_max = 0.00001\n",
    "        self.gamma_scale = 10000000\n",
    "\n",
    "        # 目标的微分反射率\n",
    "        self.beta_0 = self.gamma / np.pi\n",
    "\n",
    "        self.__dict__.update(kwargs)"
   ],
   "metadata": {
    "collapsed": false,
    "pycharm": {
     "name": "#%%\n"
    }
   }
  },
  {
   "cell_type": "code",
   "execution_count": 12,
   "outputs": [],
   "source": [
    "AVAILABLE_TAU_Hs = [20]"
   ],
   "metadata": {
    "collapsed": false,
    "pycharm": {
     "name": "#%%\n"
    }
   }
  },
  {
   "cell_type": "code",
   "execution_count": 13,
   "outputs": [],
   "source": [
    "def get_available_alphas():\n",
    "    alphas = [0.005, 0.01, 0.02, 0.03, 0.06, 0.1, 0.12, 0.15, 0.2]\n",
    "    return alphas"
   ],
   "metadata": {
    "collapsed": false,
    "pycharm": {
     "name": "#%%\n"
    }
   }
  },
  {
   "cell_type": "code",
   "execution_count": 14,
   "outputs": [],
   "source": [
    "def get_integral_dict(p: ParameterSet) -> Dict:\n",
    "    alphas = get_available_alphas()\n",
    "    alpha = min(alphas, key=lambda x: abs(x - p.alpha))\n",
    "    tau_h = min(AVAILABLE_TAU_Hs, key=lambda x: abs(x - int(p.tau_h * 1e9)))\n",
    "    filename = \"original/integral_0m_to_200m_stepsize_0.1m_tau_h_{}ns_alpha_{}.pickle\".format(tau_h,alpha)\n",
    "    with open(filename, 'rb') as handle:\n",
    "        integral_dict = pickle.load(handle)\n",
    "    return integral_dict"
   ],
   "metadata": {
    "collapsed": false,
    "pycharm": {
     "name": "#%%\n"
    }
   }
  },
  {
   "cell_type": "code",
   "execution_count": 15,
   "outputs": [],
   "source": [
    "def P_R_fog_hard(p: ParameterSet, pc: np.ndarray) -> np.ndarray:\n",
    "    r_0 = np.linalg.norm(pc[:, 0:3], axis=1)  # 求距离R_0\n",
    "    pc[:, 3] = np.round(np.exp(-2 * p.alpha * r_0) * pc[:, 3])  # 求硬点云数据\n",
    "    return pc"
   ],
   "metadata": {
    "collapsed": false,
    "pycharm": {
     "name": "#%%\n"
    }
   }
  },
  {
   "cell_type": "code",
   "execution_count": 16,
   "outputs": [],
   "source": [
    "def P_R_fog_soft(p: ParameterSet, pc: np.ndarray, original_intesity: np.ndarray, noise: int, gain: bool = False,\n",
    "                 noise_variant: str = 'v1') -> Tuple[np.ndarray, np.ndarray, Dict]:\n",
    "    augmented_pc = np.zeros(pc.shape)  # 复制点云形状\n",
    "    fog_mask = np.zeros(len(pc), dtype=bool)  # 制作假标签\n",
    "\n",
    "    r_zeros = np.linalg.norm(pc[:, 0:3], axis=1)  # 求点云距离R_0\n",
    "\n",
    "    min_fog_response = np.inf\n",
    "    max_fog_response = 0\n",
    "    num_fog_responses = 0\n",
    "\n",
    "    integral_dict = get_integral_dict(p)\n",
    "\n",
    "    r_noise = RNG.integers(low=1, high=20, size=1)[0]\n",
    "\n",
    "    for i, r_0 in enumerate(r_zeros):  # 依次遍历每个点云（下标，距离）\n",
    "        # 从预先计算的字典中加载积分值\n",
    "        key = float(str(round(r_0, 1)))\n",
    "        # 限制键大小最大为200\n",
    "        fog_distance, fog_response = integral_dict[min(key, 200)]  # 计算雾距离和反射\n",
    "\n",
    "        fog_response = fog_response * original_intesity[i] * (r_0 ** 2) * p.beta / p.beta_0  # 计算i_soft\n",
    "\n",
    "        # 限制在255以内\n",
    "        fog_response = min(fog_response, 255)\n",
    "\n",
    "        if fog_response > pc[i, 3]:  # 如果雾的反射率比目标大\n",
    "            fog_mask[i] = 1  # 标记该点\n",
    "            num_fog_responses += 1  # 软目标反射率总数加一\n",
    "\n",
    "            scaling_factor = fog_distance / r_0  # 计算缩放因子\n",
    "\n",
    "            # 缩放后的点云数据\n",
    "            augmented_pc[i, 0] = pc[i, 0] * scaling_factor\n",
    "            augmented_pc[i, 1] = pc[i, 1] * scaling_factor\n",
    "            augmented_pc[i, 2] = pc[i, 2] * scaling_factor\n",
    "            augmented_pc[i, 3] = fog_response\n",
    "\n",
    "            # 如果有第五个特征则直接保存\n",
    "            if pc.shape[1] > 4:\n",
    "                augmented_pc[i, 4] = pc[i, 4]\n",
    "\n",
    "            if noise > 0:  # 如果有噪声\n",
    "\n",
    "                if noise_variant == 'v1':  # 第一类噪声种类\n",
    "\n",
    "                    # 基于距离添加统一的噪声\n",
    "                    distance_noise = RNG.uniform(low=r_0 - noise, high=r_0 + noise, size=1)[0]\n",
    "                    noise_factor = r_0 / distance_noise\n",
    "\n",
    "                elif noise_variant == 'v2':  # 第二类噪声种类\n",
    "\n",
    "                    # add noise in the power domain\n",
    "                    power = RNG.uniform(low=-1, high=1, size=1)[0]\n",
    "                    noise_factor = max(1.0, noise / 5) ** power  # noise=10 => noise_factor ranges from 1/2 to 2\n",
    "\n",
    "                elif noise_variant == 'v3':  # 第三类噪声种类\n",
    "\n",
    "                    # add noise in the power domain\n",
    "                    power = RNG.uniform(low=-0.5, high=1, size=1)[0]\n",
    "                    noise_factor = max(1.0, noise * 4 / 10) ** power  # noise=10 => ranges from 1/2 to 4\n",
    "\n",
    "                elif noise_variant == 'v4':  # 第四类噪声种类\n",
    "\n",
    "                    additive = r_noise * RNG.beta(a=2, b=20, size=1)[0]  # β分布是一种迪利克雷分布\n",
    "                    new_dist = fog_distance + additive\n",
    "                    noise_factor = new_dist / fog_distance\n",
    "\n",
    "                else:  # 异常\n",
    "\n",
    "                    raise NotImplementedError(f\"noise variant '{noise_variant}' is not implemented (yet)\")\n",
    "\n",
    "                augmented_pc[i, 0] = augmented_pc[i, 0] * noise_factor  # x\n",
    "                augmented_pc[i, 1] = augmented_pc[i, 1] * noise_factor  # y\n",
    "                augmented_pc[i, 2] = augmented_pc[i, 2] * noise_factor  # z\n",
    "\n",
    "            if fog_response > max_fog_response:  # 找最大的反射点\n",
    "                max_fog_response = fog_response\n",
    "\n",
    "            if fog_response < min_fog_response:  # 找最小的反射点\n",
    "                min_fog_response = fog_response\n",
    "\n",
    "        else:  # 硬目标\n",
    "\n",
    "            augmented_pc[i] = pc[i]\n",
    "\n",
    "    if gain:  # 传入的参数gain\n",
    "        max_intensity = np.ceil(max(augmented_pc[:, 3]))  # 最大强度 = 向上取整(最大的反射值)\n",
    "        gain_factor = 255 / max_intensity\n",
    "        augmented_pc[:, 3] *= gain_factor  # 增强点云\n",
    "\n",
    "    simulated_fog_pc = None\n",
    "\n",
    "    if num_fog_responses > 0:  # 如果数目大于0\n",
    "        fog_points = augmented_pc[fog_mask]  # 找出雾点\n",
    "        simulated_fog_pc = fog_points\n",
    "\n",
    "    info_dict = {'min_fog_response': min_fog_response,\n",
    "                 'max_fog_response': max_fog_response,\n",
    "                 'num_fog_responses': num_fog_responses}\n",
    "\n",
    "    # 得到一些内容信息\n",
    "    return augmented_pc, simulated_fog_pc, info_dict"
   ],
   "metadata": {
    "collapsed": false,
    "pycharm": {
     "name": "#%%\n"
    }
   }
  },
  {
   "cell_type": "code",
   "execution_count": 17,
   "outputs": [],
   "source": [
    "def simulate_fog(p: ParameterSet, pc: np.ndarray, noise: int, gain: bool = False, noise_variant: str = 'v1',\n",
    "                 hard: bool = True, soft: bool = True) -> Tuple[np.ndarray, np.ndarray, Dict]:\n",
    "\n",
    "    augmented_pc = copy.deepcopy(pc)    # 增强的点云数据 = 点云的复制\n",
    "    original_intensity = copy.deepcopy(pc[:, 3])    # 原来的xyz\n",
    "\n",
    "    info_dict = None\n",
    "    simulated_fog_pc = None\n",
    "\n",
    "    if hard:\n",
    "        augmented_pc = P_R_fog_hard(p, augmented_pc)\n",
    "    if soft:\n",
    "        augmented_pc, simulated_fog_pc, info_dict = P_R_fog_soft(p, augmented_pc, original_intensity, noise, gain,\n",
    "                                                                 noise_variant)\n",
    "    return augmented_pc, simulated_fog_pc, info_dict"
   ],
   "metadata": {
    "collapsed": false,
    "pycharm": {
     "name": "#%%\n"
    }
   }
  },
  {
   "cell_type": "code",
   "execution_count": 21,
   "outputs": [
    {
     "name": "stdout",
     "output_type": "stream",
     "text": [
      "alpha 0.06\n",
      "before 1.6960423427272457\n",
      "1\n",
      "after 1.3599107637344936\n"
     ]
    }
   ],
   "source": [
    "if __name__ == '__main__':\n",
    "    available_alphas = get_available_alphas()#得到文件的阿尔法参数\n",
    "    # for available_alpha in available_alphas:#遍历所有参数\n",
    "    available_alpha = 0.06\n",
    "    print(f'alpha {available_alpha}')\n",
    "    parameter_set = ParameterSet(alpha=available_alpha, gamma=0.000001)\n",
    "    points = np.load(path+\"0.npy\")\n",
    "    points = points[:,0:4]\n",
    "    print(\"before\",np.mean(points))\n",
    "    points = points.reshape((-1, 4))#将所有点转成直线\n",
    "    points, _, _ = simulate_fog(parameter_set, points, 10)\n",
    "    print(\"after\",np.mean(points))"
   ],
   "metadata": {
    "collapsed": false,
    "pycharm": {
     "name": "#%%\n"
    }
   }
  }
 ],
 "metadata": {
  "kernelspec": {
   "display_name": "Python 3",
   "language": "python",
   "name": "python3"
  },
  "language_info": {
   "codemirror_mode": {
    "name": "ipython",
    "version": 2
   },
   "file_extension": ".py",
   "mimetype": "text/x-python",
   "name": "python",
   "nbconvert_exporter": "python",
   "pygments_lexer": "ipython2",
   "version": "2.7.6"
  }
 },
 "nbformat": 4,
 "nbformat_minor": 0
}